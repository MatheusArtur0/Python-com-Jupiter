{
 "cells": [
  {
   "cell_type": "markdown",
   "id": "2755d9a3",
   "metadata": {},
   "source": [
    "# Primeiros Exemplos"
   ]
  },
  {
   "cell_type": "code",
   "execution_count": 6,
   "id": "12c64183",
   "metadata": {},
   "outputs": [
    {
     "name": "stdout",
     "output_type": "stream",
     "text": [
      "primeiro programa\n"
     ]
    }
   ],
   "source": [
    "print('primeiro programa')"
   ]
  },
  {
   "cell_type": "markdown",
   "id": "8bc72f78",
   "metadata": {},
   "source": [
    "# Tipos Básicos"
   ]
  },
  {
   "cell_type": "code",
   "execution_count": null,
   "id": "6aac8bef",
   "metadata": {},
   "outputs": [],
   "source": [
    "print(True)\n",
    "print(False)\n",
    "print(1.2+1)\n",
    "print('Aqui eu falo na minha lingua!')\n",
    "print('Também funciona')\n",
    "print('Você é' + 3 * 'muito' + 'legal!')"
   ]
  },
  {
   "cell_type": "markdown",
   "id": "f653b4c8",
   "metadata": {},
   "source": [
    "# Operadores Aritméticos"
   ]
  },
  {
   "cell_type": "code",
   "execution_count": null,
   "id": "30ddde0b",
   "metadata": {},
   "outputs": [],
   "source": [
    "print(2+3) #soma\n",
    "print(4-7) #subtração\n",
    "print(2*5.3) #multiplicação\n",
    "print(9.4/3) #divisão \n",
    "print(9.4//3) #\n",
    "print(2**8)\n",
    "print(10%3)"
   ]
  },
  {
   "cell_type": "markdown",
   "id": "6a1fce2c",
   "metadata": {},
   "source": [
    "# Exercicio (desafio operadores aritméticos)"
   ]
  },
  {
   "cell_type": "code",
   "execution_count": 3,
   "id": "55b1f14b",
   "metadata": {},
   "outputs": [
    {
     "data": {
      "text/plain": [
       "71.18491790925822"
      ]
     },
     "execution_count": 3,
     "metadata": {},
     "output_type": "execute_result"
    }
   ],
   "source": [
    "#Através das variáveis abaixo, informe quantos porcento do salário é comprometido com as despesas. \n",
    "salario = 3450.45\n",
    "despesas = 2456.2\n",
    "\n",
    "#Resposta\n",
    "a = salario \n",
    "b = despesas \n",
    "\n",
    "percentual_comprometido = b / a * 100\n",
    "percentual_comprometido"
   ]
  },
  {
   "cell_type": "markdown",
   "id": "1b28f8d5",
   "metadata": {},
   "source": [
    "# Operadores Relacionais"
   ]
  },
  {
   "cell_type": "code",
   "execution_count": null,
   "id": "61d05983",
   "metadata": {},
   "outputs": [],
   "source": [
    "3 > 4\n",
    "4 >= 3\n",
    "1 < 2\n",
    "3 <= 1\n",
    "3 != 2\n",
    "3 == 3\n",
    "2 == '3'\n",
    "\n",
    "# Em todos eles a resposta sempre será verdadeiro ou falso"
   ]
  },
  {
   "cell_type": "markdown",
   "id": "90b96812",
   "metadata": {},
   "source": [
    "# Operadores de Atribuição"
   ]
  },
  {
   "cell_type": "code",
   "execution_count": null,
   "id": "6366f1c5",
   "metadata": {},
   "outputs": [],
   "source": [
    "a = 3\n",
    "a = a + 7\n",
    "a += 5\n",
    "a -= 3\n",
    "a *= 2\n",
    "a /= 4\n",
    "a %= 4\n",
    "a **= 8\n",
    "a //= 256"
   ]
  },
  {
   "cell_type": "markdown",
   "id": "1df3fdc0",
   "metadata": {},
   "source": [
    "# Operadores lógicos "
   ]
  },
  {
   "cell_type": "code",
   "execution_count": 9,
   "id": "06ff6847",
   "metadata": {},
   "outputs": [
    {
     "data": {
      "text/plain": [
       "True"
      ]
     },
     "execution_count": 9,
     "metadata": {},
     "output_type": "execute_result"
    }
   ],
   "source": [
    "#                                   True or False \n",
    "# 7 != 3 and 2 > 3 #resposta: False \n",
    "#______________________________________________\n",
    "#    Tabela verdade do AND\n",
    "# True and True = True\n",
    "# True and False = False \n",
    "# False and True = False \n",
    "# False and False = False \n",
    "#______________________________________________\n",
    "#    Tabela verdade do OR\n",
    "# True or True = True\n",
    "# True or False = True\n",
    "# False or True = True\n",
    "# False or False = False\n",
    "#______________________________________________\n",
    "#    Tabela verdade do XOR\n",
    "# True != True = False\n",
    "# True != False = True\n",
    "# False != True = True\n",
    "# False != False = False \n",
    "#______________________________________________\n",
    "#    Tabela verdade do NOT\n",
    "# not True = False\n",
    "# not False = True\n",
    "# not 1 = False \n",
    "# not 0 = True\n",
    "#______________________________________________\n",
    "# Um pouco de realidade:\n",
    "saldo = 1000\n",
    "salario = 4000\n",
    "despesas = 2967\n",
    "\n",
    "meta = saldo > 0 and salario - despesas > 0.2 * salario\n",
    "meta "
   ]
  },
  {
   "cell_type": "markdown",
   "id": "46239bb5",
   "metadata": {},
   "source": [
    "# Ecercicio (desafio operadores lógicos)"
   ]
  },
  {
   "cell_type": "code",
   "execution_count": 11,
   "id": "f8aa9e29",
   "metadata": {},
   "outputs": [
    {
     "name": "stdout",
     "output_type": "stream",
     "text": [
      "Tv50=False Tv32=True Sorvete=True Saudável=False\n"
     ]
    }
   ],
   "source": [
    "# Uma pessoa vai ter 2 trabalhos para executar, um na terça e outro na quinta. Ambos os dias podem ter como resultado\n",
    "# True ou False, o que representa que o trabalho foi concretizado ou não. \n",
    "# Caso apenas um trabalho dê certo, o mesmo vai no shopping comprar uma TV de 32 polegadas.\n",
    "# Caso os dois trabalhos derem certo, o mesmo comprará uma TV de 50 polegadas. \n",
    "# Em ambos os cenários, a família vai comprar sorvete para comemorar. \n",
    "# Caso nenhum dos dois trabalhos deem certo, haverá mais saúde (negação de não tomar sorvete). \n",
    "# Resumindo: \n",
    "# Confirmando os 2: TV 50 + sorvete\n",
    "# Confirmando apenas 1: TV 32 + sorvete\n",
    "# Nenhum confirmado: Fica em casa \n",
    "\n",
    "trabalho_terca = True \n",
    "trabalho_quinta = False\n",
    "\n",
    "tv_50 = trabalho_terca and trabalho_quinta \n",
    "sorvete = trabalho_terca or trabalho_quinta\n",
    "tv_32 = trabalho_terca != trabalho_quinta #XOR\n",
    "mais_saudavel = not sorvete\n",
    "\n",
    "print(\"Tv50={} Tv32={} Sorvete={} Saudável={}\"\n",
    "     .format(tv_50, tv_32, sorvete, mais_saudavel))"
   ]
  },
  {
   "cell_type": "markdown",
   "id": "9d9b4ce6",
   "metadata": {},
   "source": [
    "# Operadores Unários "
   ]
  },
  {
   "cell_type": "code",
   "execution_count": 1,
   "id": "7c83f303",
   "metadata": {},
   "outputs": [],
   "source": [
    "a = 3\n",
    "a += 1\n"
   ]
  },
  {
   "cell_type": "markdown",
   "id": "a2157cc7",
   "metadata": {},
   "source": [
    "# Operadores Ternários"
   ]
  },
  {
   "cell_type": "code",
   "execution_count": null,
   "id": "b511b850",
   "metadata": {},
   "outputs": [],
   "source": []
  },
  {
   "cell_type": "markdown",
   "id": "5a402a51",
   "metadata": {},
   "source": [
    "# Mais operadores "
   ]
  },
  {
   "cell_type": "code",
   "execution_count": null,
   "id": "a6eb773f",
   "metadata": {},
   "outputs": [],
   "source": [
    "#Operador de Membro\n",
    "lista = [1,2,3,'Ana','Carla']\n",
    "2 in lista #Resposta: True\n",
    "'Ana' not in lista #Resposta: False\n",
    "\n",
    "#Operador de Identidate \n"
   ]
  },
  {
   "cell_type": "markdown",
   "id": "9467871b",
   "metadata": {},
   "source": [
    "# Builtins"
   ]
  },
  {
   "cell_type": "code",
   "execution_count": null,
   "id": "c2737524",
   "metadata": {},
   "outputs": [],
   "source": []
  },
  {
   "cell_type": "markdown",
   "id": "5194e220",
   "metadata": {},
   "source": [
    "# Conversão de Tipos"
   ]
  },
  {
   "cell_type": "code",
   "execution_count": null,
   "id": "54b48708",
   "metadata": {},
   "outputs": [],
   "source": []
  },
  {
   "cell_type": "markdown",
   "id": "3c5b3290",
   "metadata": {},
   "source": [
    "# Coerção Automática"
   ]
  },
  {
   "cell_type": "code",
   "execution_count": null,
   "id": "6fb73a22",
   "metadata": {},
   "outputs": [],
   "source": []
  },
  {
   "cell_type": "markdown",
   "id": "ad4981fb",
   "metadata": {},
   "source": [
    "# Tipos numéricos "
   ]
  },
  {
   "cell_type": "code",
   "execution_count": null,
   "id": "71d39dd9",
   "metadata": {},
   "outputs": [],
   "source": []
  },
  {
   "cell_type": "markdown",
   "id": "0347f4f2",
   "metadata": {},
   "source": [
    "# Strings"
   ]
  }
 ],
 "metadata": {
  "kernelspec": {
   "display_name": "Python 3 (ipykernel)",
   "language": "python",
   "name": "python3"
  },
  "language_info": {
   "codemirror_mode": {
    "name": "ipython",
    "version": 3
   },
   "file_extension": ".py",
   "mimetype": "text/x-python",
   "name": "python",
   "nbconvert_exporter": "python",
   "pygments_lexer": "ipython3",
   "version": "3.11.5"
  }
 },
 "nbformat": 4,
 "nbformat_minor": 5
}
